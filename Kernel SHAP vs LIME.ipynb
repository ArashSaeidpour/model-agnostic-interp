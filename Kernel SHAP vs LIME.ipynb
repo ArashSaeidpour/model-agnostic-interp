{
 "cells": [
  {
   "cell_type": "code",
   "execution_count": 2,
   "metadata": {},
   "outputs": [],
   "source": [
    "import numpy as np\n",
    "import pandas as pd\n",
    "import matplotlib.pyplot as plt\n",
    "import matplotlib as mpl\n",
    "from keras import layers\n",
    "from keras.layers import Input, Dense, Activation, BatchNormalization\n",
    "from keras.layers import  Dropout \n",
    "from keras.models import Model\n",
    "from keras import regularizers, optimizers\n",
    "from keras.utils.vis_utils import model_to_dot\n",
    "from keras.utils import plot_model\n",
    "import keras.backend as K\n",
    "from keras.initializers import glorot_uniform\n",
    "from keras.callbacks import TensorBoard\n",
    "from sklearn.model_selection import cross_val_score,StratifiedKFold\n",
    "from sklearn.model_selection import train_test_split\n",
    "from sklearn.preprocessing import PolynomialFeatures, RobustScaler, StandardScaler\n",
    "from sklearn.preprocessing import Normalizer,MaxAbsScaler,RobustScaler\n",
    "from sklearn.model_selection import cross_val_score\n",
    "import shap\n",
    "import seaborn as sns\n",
    "from skater.model import InMemoryModel\n",
    "from skater.core.explanations import Interpretation\n",
    "from sklearn.ensemble import RandomForestClassifier\n",
    "import lime\n",
    "import lime.lime_tabular"
   ]
  },
  {
   "cell_type": "code",
   "execution_count": 3,
   "metadata": {},
   "outputs": [],
   "source": [
    "font = {'family' : 'serif',\n",
    "        'size'   : 10}\n",
    "\n",
    "mpl.rc('font', **font)"
   ]
  },
  {
   "cell_type": "markdown",
   "metadata": {},
   "source": [
    "# Random draws from 8 guassian rvs"
   ]
  },
  {
   "cell_type": "code",
   "execution_count": 4,
   "metadata": {},
   "outputs": [],
   "source": [
    "np.random.seed=2\n",
    "X=np.random.randn(8,1000)"
   ]
  },
  {
   "cell_type": "markdown",
   "metadata": {},
   "source": [
    "# Fitting a linear model on the drawn samples"
   ]
  },
  {
   "cell_type": "code",
   "execution_count": 5,
   "metadata": {},
   "outputs": [],
   "source": [
    "Y=1*X[0,] + 2*X[1,] - 3*X[2,] - 4*X[3,] + 5*X[4,] + 6*X[5,] + 7*X[6,] + 10 * X[7,]"
   ]
  },
  {
   "cell_type": "code",
   "execution_count": 6,
   "metadata": {},
   "outputs": [
    {
     "data": {
      "text/html": [
       "[<matplotlib.lines.Line2D object at 0x2ae636f4ca20>]"
      ],
      "text/plain": [
       "[<matplotlib.lines.Line2D at 0x2ae636f4ca20>]"
      ]
     },
     "execution_count": 6,
     "metadata": {},
     "output_type": "execute_result"
    },
    {
     "data": {
      "image/png": "[encoded data removed]",
      "text/plain": [
       "<Figure size 432x288 with 1 Axes>"
      ]
     },
     "metadata": {},
     "output_type": "display_data"
    }
   ],
   "source": [
    "plt.plot(X[7,],Y,'o')"
   ]
  },
  {
   "cell_type": "markdown",
   "metadata": {},
   "source": [
    "# Splitting the data to train,test,split"
   ]
  },
  {
   "cell_type": "code",
   "execution_count": 7,
   "metadata": {},
   "outputs": [],
   "source": [
    "sc = StandardScaler()\n",
    "X_std=sc.fit_transform(X.T)"
   ]
  },
  {
   "cell_type": "code",
   "execution_count": 8,
   "metadata": {},
   "outputs": [],
   "source": [
    "df_X_std=pd.DataFrame(data=X_std)"
   ]
  },
  {
   "cell_type": "code",
   "execution_count": 9,
   "metadata": {},
   "outputs": [],
   "source": [
    "test_size=0.30\n",
    "rand_state=11\n",
    "\n",
    "q0=-100\n",
    "q1=np.percentile(Y,25.0)\n",
    "q2=np.percentile(Y,50.0)\n",
    "q3=np.percentile(Y,75.0)\n",
    "q4=100\n",
    "\n",
    "bins=[q0,q1,q2,q3,q4]\n",
    "\n",
    "y_binned = np.digitize(Y, bins=bins,right=True)\n",
    "\n",
    "X_train, X_dev_test, y_train, y_dev_test = train_test_split(df_X_std,Y,stratify=y_binned,\n",
    "                                             test_size=test_size, shuffle=True,random_state=rand_state)\n",
    "\n",
    "X_dev, X_test, y_dev, y_test = train_test_split(X_dev_test,y_dev_test,\n",
    "                                             test_size=0.5, shuffle=False,random_state=rand_state)"
   ]
  },
  {
   "cell_type": "markdown",
   "metadata": {},
   "source": [
    "# Deep model"
   ]
  },
  {
   "cell_type": "code",
   "execution_count": 10,
   "metadata": {},
   "outputs": [],
   "source": [
    "def coeff_determination(y_true, y_pred):\n",
    "    SS_res =  K.sum(K.square( y_true-y_pred ))\n",
    "    SS_tot = K.sum(K.square( y_true - K.mean(y_true) ) )\n",
    "    return ( 1 - SS_res/(SS_tot + K.epsilon()) )"
   ]
  },
  {
   "cell_type": "code",
   "execution_count": 11,
   "metadata": {},
   "outputs": [],
   "source": [
    "def model(input_shape):\n",
    "    X_input=Input(shape=input_shape)\n",
    "    X=Dense(64,name='layer_1',activation='tanh',kernel_initializer = glorot_uniform(seed=0))(X_input)\n",
    "    X=Dropout(0.25)(X)\n",
    "    X=Dense(64,name='layer_2',activation='tanh',kernel_initializer = glorot_uniform(seed=0))(X)\n",
    "    X=Dropout(0.25)(X)\n",
    "#     X=Dense(64,name='layer_3',activation='tanh',kernel_initializer = glorot_uniform(seed=0))(X)\n",
    "#     X=Dropout(0.25)(X)\n",
    "#     X=Dense(64,name='layer_4',activation='tanh',kernel_initializer = glorot_uniform(seed=0))(X)\n",
    "#     X=Dropout(0.25)(X)\n",
    "    X=Dense(1 ,name='output',activation='linear')(X)\n",
    "    model = Model(inputs = X_input, outputs = X, name='PhaseModel')\n",
    "    model.summary()\n",
    "    return model"
   ]
  },
  {
   "cell_type": "code",
   "execution_count": 45,
   "metadata": {},
   "outputs": [
    {
     "name": "stdout",
     "output_type": "stream",
     "text": [
      "_________________________________________________________________\n",
      "Layer (type)                 Output Shape              Param #   \n",
      "=================================================================\n",
      "input_6 (InputLayer)         (None, 8)                 0         \n",
      "_________________________________________________________________\n",
      "layer_1 (Dense)              (None, 64)                576       \n",
      "_________________________________________________________________\n",
      "dropout_11 (Dropout)         (None, 64)                0         \n",
      "_________________________________________________________________\n",
      "layer_2 (Dense)              (None, 64)                4160      \n",
      "_________________________________________________________________\n",
      "dropout_12 (Dropout)         (None, 64)                0         \n",
      "_________________________________________________________________\n",
      "output (Dense)               (None, 1)                 65        \n",
      "=================================================================\n",
      "Total params: 4,801\n",
      "Trainable params: 4,801\n",
      "Non-trainable params: 0\n",
      "_________________________________________________________________\n"
     ]
    }
   ],
   "source": [
    "model1=model((X_std.shape[1],))"
   ]
  },
  {
   "cell_type": "code",
   "execution_count": 46,
   "metadata": {},
   "outputs": [],
   "source": [
    "Adam=optimizers.Adam(lr=0.0005, beta_1=0.9, beta_2=0.999, epsilon=None, decay=0.0, amsgrad=False)\n",
    "model1.compile(optimizer=Adam,\n",
    "               loss='mean_squared_error', \n",
    "               metrics=[coeff_determination])"
   ]
  },
  {
   "cell_type": "markdown",
   "metadata": {},
   "source": [
    "## Training"
   ]
  },
  {
   "cell_type": "code",
   "execution_count": 47,
   "metadata": {},
   "outputs": [],
   "source": [
    "R2_train=[]\n",
    "R2_dev=[]\n",
    "R2_test=[]"
   ]
  },
  {
   "cell_type": "code",
   "execution_count": null,
   "metadata": {},
   "outputs": [],
   "source": [
    "for i in range(300):\n",
    "    model1.fit(X_train, y_train,\n",
    "                  batch_size=1000,\n",
    "                  epochs=50,\n",
    "                  validation_data=(X_dev, y_dev),\n",
    "                  shuffle=False,\n",
    "                  verbose=0)\n",
    "    R2_train.append(model1.evaluate(X_train,y_train)[1])\n",
    "    R2_dev.append(model1.evaluate(X_dev,y_dev)[1])\n",
    "    R2_test.append(model1.evaluate(X_test,y_test)[1])"
   ]
  },
  {
   "cell_type": "markdown",
   "metadata": {},
   "source": [
    "# Results"
   ]
  },
  {
   "cell_type": "markdown",
   "metadata": {},
   "source": [
    "## $R^2$"
   ]
  },
  {
   "cell_type": "code",
   "execution_count": 49,
   "metadata": {},
   "outputs": [
    {
     "data": {
      "image/png": "[encoded data removed]",
      "text/plain": [
       "<Figure size 1296x864 with 1 Axes>"
      ]
     },
     "metadata": {},
     "output_type": "display_data"
    }
   ],
   "source": [
    "n_epochs=np.arange(len(R2_train))\n",
    "plt.figure(figsize=(18,12))\n",
    "plt.plot(n_epochs,R2_train,'--',label='Train')\n",
    "plt.plot(n_epochs[-1],R2_dev[-1],'o',markersize=12,label='Dev')\n",
    "plt.plot(n_epochs[-1],R2_test[-1],'x',markersize=12,label='Test')\n",
    "#plt.ylim((0.5,1))\n",
    "plt.ylabel(r'$R^2$')\n",
    "plt.xlabel('#Epochs')\n",
    "plt.legend()\n",
    "plt.show()"
   ]
  },
  {
   "cell_type": "markdown",
   "metadata": {},
   "source": [
    "## Predicted vs true values"
   ]
  },
  {
   "cell_type": "code",
   "execution_count": 50,
   "metadata": {},
   "outputs": [
    {
     "data": {
      "image/png": "[encoded data removed]",
      "text/plain": [
       "<Figure size 432x288 with 1 Axes>"
      ]
     },
     "metadata": {},
     "output_type": "display_data"
    }
   ],
   "source": [
    "y_pred_test=model1.predict(X_test)\n",
    "plt.plot(y_pred_test,y_test,'o')\n",
    "plt.xlabel(r'$Y_{true}$',fontsize=12)\n",
    "plt.ylabel(r'$Y_{predicted}$',fontsize=12)\n",
    "plt.show()"
   ]
  },
  {
   "cell_type": "markdown",
   "metadata": {},
   "source": [
    "# Feature importance"
   ]
  },
  {
   "cell_type": "markdown",
   "metadata": {},
   "source": [
    "## SHAP explainer"
   ]
  },
  {
   "cell_type": "code",
   "execution_count": 51,
   "metadata": {},
   "outputs": [
    {
     "name": "stderr",
     "output_type": "stream",
     "text": [
      "Using 700 background data samples could cause slower run times. Consider using shap.kmeans(data, K) to summarize the background as K weighted samples.\n"
     ]
    }
   ],
   "source": [
    "#backgournd=shap.kmeans(X_train,10)\n",
    "backgournd=X_train\n",
    "explainer = shap.KernelExplainer(model1.predict, backgournd)"
   ]
  },
  {
   "cell_type": "code",
   "execution_count": 61,
   "metadata": {},
   "outputs": [
    {
     "name": "stderr",
     "output_type": "stream",
     "text": [
      "  0%|          | 0/50 [00:00<?, ?it/s]/home/arashs/.local/lib/python3.6/site-packages/shap/explainers/kernel.py:535: UserWarning: l1_reg=\"auto\" is deprecated and in the next version (v0.29) the behavior will change from a conditional use of AIC to simply \"num_features(10)\"!\n",
      "  \"l1_reg=\\\"auto\\\" is deprecated and in the next version (v0.29) the behavior will change from a \" \\\n",
      "100%|██████████| 50/50 [01:47<00:00,  2.11s/it]\n"
     ]
    }
   ],
   "source": [
    "shap_values= explainer.shap_values(X_test.iloc[0:50])"
   ]
  },
  {
   "cell_type": "code",
   "execution_count": 65,
   "metadata": {},
   "outputs": [],
   "source": [
    "df_shap_values=pd.DataFrame(data=shap_values[0],\n",
    "                            columns=['var_'+str(i) for i in range(8)],\n",
    "                            index=['sample_'+str(i) for i in range(shap_values[0].shape[0])])"
   ]
  },
  {
   "cell_type": "markdown",
   "metadata": {},
   "source": [
    "### Local SHAP values (for a single instance)"
   ]
  },
  {
   "cell_type": "code",
   "execution_count": 66,
   "metadata": {},
   "outputs": [
    {
     "data": {
      "image/png": "[encoded data removed]",
      "text/plain": [
       "<Figure size 1296x864 with 1 Axes>"
      ]
     },
     "metadata": {},
     "output_type": "display_data"
    }
   ],
   "source": [
    "idx=7   ## Index of the desired sample instance\n",
    "local_shap_vs_true_coef=pd.DataFrame(index=df_shap_values.columns)\n",
    "local_shap_vs_true_coef['SHAP']=df_shap_values.iloc[idx].values/df_shap_values.iloc[idx,0]\n",
    "local_shap_vs_true_coef['True coef']=[1,2,-3,-4,5,6,7,10]\n",
    "local_shap_vs_true_coef.plot(kind='bar',figsize=(18,12))\n",
    "plt.show()"
   ]
  },
  {
   "cell_type": "markdown",
   "metadata": {},
   "source": [
    "### Global SHAP (averaged over X_test)"
   ]
  },
  {
   "cell_type": "code",
   "execution_count": 67,
   "metadata": {},
   "outputs": [
    {
     "data": {
      "text/plain": [
       "<matplotlib.axes._subplots.AxesSubplot at 0x2ae70bed1e80>"
      ]
     },
     "execution_count": 67,
     "metadata": {},
     "output_type": "execute_result"
    },
    {
     "data": {
      "image/png": "[encoded data removed]",
      "text/plain": [
       "<Figure size 1296x864 with 1 Axes>"
      ]
     },
     "metadata": {},
     "output_type": "display_data"
    }
   ],
   "source": [
    "Global_shap_vs_true_coef=pd.DataFrame(index=df_shap_values.columns)\n",
    "Global_shap_vs_true_coef['SHAP']=df_shap_values.mean(axis=0)\n",
    "Global_shap_vs_true_coef['SHAP']=Global_shap_vs_true_coef['SHAP']/Global_shap_vs_true_coef['SHAP'].iloc[0]\n",
    "Global_shap_vs_true_coef['True coef']=[1,2,-3,-4,5,6,7,10]\n",
    "Global_shap_vs_true_coef.plot(kind='bar',figsize=(18,12))"
   ]
  },
  {
   "cell_type": "markdown",
   "metadata": {},
   "source": [
    "### Global Absolute SHAP (averaged over X_test)"
   ]
  },
  {
   "cell_type": "code",
   "execution_count": 68,
   "metadata": {},
   "outputs": [
    {
     "data": {
      "text/plain": [
       "<matplotlib.axes._subplots.AxesSubplot at 0x2ae70a5774e0>"
      ]
     },
     "execution_count": 68,
     "metadata": {},
     "output_type": "execute_result"
    },
    {
     "data": {
      "image/png": "[encoded data removed]",
      "text/plain": [
       "<Figure size 1296x864 with 1 Axes>"
      ]
     },
     "metadata": {},
     "output_type": "display_data"
    }
   ],
   "source": [
    "Global_abs_shap_vs_true_coef=pd.DataFrame(index=df_shap_values.columns)\n",
    "Global_abs_shap_vs_true_coef['SHAP']=np.abs(df_shap_values).mean(axis=0)\n",
    "Global_abs_shap_vs_true_coef['SHAP']=Global_abs_shap_vs_true_coef['SHAP']/Global_abs_shap_vs_true_coef['SHAP'].iloc[0]\n",
    "Global_abs_shap_vs_true_coef['True coef']=[1,2,-3,-4,5,6,7,10]\n",
    "Global_abs_shap_vs_true_coef.plot(kind='bar',figsize=(18,12))"
   ]
  },
  {
   "cell_type": "markdown",
   "metadata": {},
   "source": [
    "## Deep SHAP"
   ]
  },
  {
   "cell_type": "code",
   "execution_count": 76,
   "metadata": {},
   "outputs": [],
   "source": [
    "Deep_background=X_train\n",
    "Deep_exp=shap.DeepExplainer(model1, Deep_background)"
   ]
  },
  {
   "cell_type": "code",
   "execution_count": 77,
   "metadata": {},
   "outputs": [],
   "source": [
    "Deep_shap_values = Deep_exp.shap_values(X_test.values)"
   ]
  },
  {
   "cell_type": "code",
   "execution_count": 78,
   "metadata": {},
   "outputs": [],
   "source": [
    "df_Deep_shap_values=pd.DataFrame(data=Deep_shap_values[0],\n",
    "                            columns=X_test.columns,\n",
    "                            index=X_test.index)"
   ]
  },
  {
   "cell_type": "markdown",
   "metadata": {},
   "source": [
    "### local Deep SHAP"
   ]
  },
  {
   "cell_type": "code",
   "execution_count": 82,
   "metadata": {},
   "outputs": [
    {
     "data": {
      "image/png": "[encoded data removed]",
      "text/plain": [
       "<Figure size 1296x864 with 1 Axes>"
      ]
     },
     "metadata": {},
     "output_type": "display_data"
    }
   ],
   "source": [
    "idx=7   ## Index of the desired sample instance\n",
    "local_shap_vs_true_coef=pd.DataFrame(index=df_Deep_shap_values.columns)\n",
    "local_shap_vs_true_coef['Deep SHAP']=df_Deep_shap_values.iloc[idx].values/df_Deep_shap_values.iloc[idx,0]\n",
    "local_shap_vs_true_coef['True coef']=[1,2,-3,-4,5,6,7,10]\n",
    "local_shap_vs_true_coef.plot(kind='bar',figsize=(18,12))\n",
    "plt.show()"
   ]
  },
  {
   "cell_type": "markdown",
   "metadata": {},
   "source": [
    "### GLobal Deep SHAP"
   ]
  },
  {
   "cell_type": "code",
   "execution_count": 84,
   "metadata": {},
   "outputs": [
    {
     "data": {
      "text/plain": [
       "<matplotlib.axes._subplots.AxesSubplot at 0x2ae70bcd30b8>"
      ]
     },
     "execution_count": 84,
     "metadata": {},
     "output_type": "execute_result"
    },
    {
     "data": {
      "image/png": "[encoded data removed]",
      "text/plain": [
       "<Figure size 1296x864 with 1 Axes>"
      ]
     },
     "metadata": {},
     "output_type": "display_data"
    }
   ],
   "source": [
    "Global_shap_vs_true_coef=pd.DataFrame(index=df_Deep_shap_values.columns)\n",
    "Global_shap_vs_true_coef['Deep SHAP']=df_Deep_shap_values.mean(axis=0)\n",
    "Global_shap_vs_true_coef['Deep SHAP']=Global_shap_vs_true_coef['Deep SHAP']/Global_shap_vs_true_coef['Deep SHAP'].iloc[0]\n",
    "Global_shap_vs_true_coef['True coef']=[1,2,-3,-4,5,6,7,10]\n",
    "Global_shap_vs_true_coef.plot(kind='bar',figsize=(18,12))"
   ]
  },
  {
   "cell_type": "markdown",
   "metadata": {},
   "source": [
    "### Global absolute Deep SHAP"
   ]
  },
  {
   "cell_type": "code",
   "execution_count": 85,
   "metadata": {},
   "outputs": [
    {
     "data": {
      "text/plain": [
       "<matplotlib.axes._subplots.AxesSubplot at 0x2ae70befce80>"
      ]
     },
     "execution_count": 85,
     "metadata": {},
     "output_type": "execute_result"
    },
    {
     "data": {
      "image/png": "[encoded data removed]",
      "text/plain": [
       "<Figure size 1296x864 with 1 Axes>"
      ]
     },
     "metadata": {},
     "output_type": "display_data"
    }
   ],
   "source": [
    "Global_abs_shap_vs_true_coef=pd.DataFrame(index=df_Deep_shap_values.columns)\n",
    "Global_abs_shap_vs_true_coef['Deep SHAP']=np.abs(df_Deep_shap_values).mean(axis=0)\n",
    "Global_abs_shap_vs_true_coef['Deep SHAP']=Global_abs_shap_vs_true_coef['Deep SHAP']/Global_abs_shap_vs_true_coef['Deep SHAP'].iloc[0]\n",
    "Global_abs_shap_vs_true_coef['True coef']=[1,2,-3,-4,5,6,7,10]\n",
    "Global_abs_shap_vs_true_coef.plot(kind='bar',figsize=(18,12))"
   ]
  },
  {
   "cell_type": "code",
   "execution_count": 69,
   "metadata": {},
   "outputs": [],
   "source": [
    "# def lime_pred(x,model=model1):\n",
    "#     out=model.predict(x)\n",
    "#     return out.squeeze()"
   ]
  },
  {
   "cell_type": "code",
   "execution_count": 70,
   "metadata": {},
   "outputs": [],
   "source": [
    "# lime_explainer = lime.lime_tabular.LimeTabularExplainer(X_train, feature_names=list(df_X_std.columns), \n",
    "#                                                    #class_names=y_train,\n",
    "#                                                    verbose=False, \n",
    "#                                                    mode='regression',\n",
    "#                                                   discretize_continuous=False)"
   ]
  },
  {
   "cell_type": "code",
   "execution_count": null,
   "metadata": {},
   "outputs": [],
   "source": [
    "# y_true=[]\n",
    "# y_lime=[]\n",
    "# for i in range(0,Y.shape[0],10):\n",
    "#     lime_exp = lime_explainer.explain_instance(df_X_std.iloc[i].values, lime_pred)\n",
    "#     y_true.append(Y[i])\n",
    "#     y_lime.append(lime_exp.local_pred[0])"
   ]
  },
  {
   "cell_type": "code",
   "execution_count": null,
   "metadata": {},
   "outputs": [],
   "source": [
    "# x_dummy=np.arange(-50,50,0.1)\n",
    "# plt.figure(figsize=(18,12))\n",
    "# plt.plot(y_true,y_lime,'o',alpha=0.5)\n",
    "# plt.plot(x_dummy,x_dummy,'--')\n",
    "# plt.ylabel(r'$Y_{LIME}$')\n",
    "# plt.xlabel(r'$Y_{True}$')\n",
    "# plt.show()"
   ]
  },
  {
   "cell_type": "markdown",
   "metadata": {},
   "source": [
    "# Local LIME values (local:for a single data instance)"
   ]
  },
  {
   "cell_type": "code",
   "execution_count": null,
   "metadata": {},
   "outputs": [],
   "source": [
    "# exp = lime_explainer.explain_instance(X_test.iloc[3,:], lime_pred)\n",
    "# exp.show_in_notebook(show_table=True)"
   ]
  },
  {
   "cell_type": "code",
   "execution_count": null,
   "metadata": {},
   "outputs": [],
   "source": [
    "# lime_vals=[val[1] for val in exp.as_list()]\n",
    "# lime_vals.reverse()\n",
    "# lime_vs_true_coef=pd.DataFrame(index=df_shap_values.columns)\n",
    "# lime_vs_true_coef['LIME']=lime_vals\n",
    "# lime_vs_true_coef['True coef']=[1,2,-3,-4,5,6,7,10]\n",
    "# lime_vs_true_coef.plot(kind='bar',figsize=(18,12))"
   ]
  },
  {
   "cell_type": "markdown",
   "metadata": {},
   "source": [
    "# SKATER"
   ]
  },
  {
   "cell_type": "code",
   "execution_count": null,
   "metadata": {},
   "outputs": [],
   "source": [
    "# skater_pred_model = InMemoryModel(model1.predict)\n",
    "# interpreter = Interpretation()\n",
    "# interpreter.load_data(df_X_std)\n",
    "# imp=interpreter.feature_importance.feature_importance(skater_pred_model)"
   ]
  },
  {
   "cell_type": "code",
   "execution_count": null,
   "metadata": {},
   "outputs": [],
   "source": [
    "# plt.bar(n,imp/imp[0])"
   ]
  },
  {
   "cell_type": "code",
   "execution_count": null,
   "metadata": {},
   "outputs": [],
   "source": []
  }
 ],
 "metadata": {
  "kernelspec": {
   "display_name": "Python [conda env:MLenv]",
   "language": "python",
   "name": "conda-env-MLenv-py"
  },
  "language_info": {
   "codemirror_mode": {
    "name": "ipython",
    "version": 3
   },
   "file_extension": ".py",
   "mimetype": "text/x-python",
   "name": "python",
   "nbconvert_exporter": "python",
   "pygments_lexer": "ipython3",
   "version": "3.6.6"
  }
 },
 "nbformat": 4,
 "nbformat_minor": 2
}
